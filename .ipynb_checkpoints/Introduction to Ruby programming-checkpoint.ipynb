{
 "cells": [
  {
   "cell_type": "markdown",
   "metadata": {},
   "source": [
    "# Introduction to Ruby programming"
   ]
  },
  {
   "cell_type": "markdown",
   "metadata": {},
   "source": [
    "Author: Justin T. Lee\n",
    "\n",
    "Company: Health Policy Associates, Inc.\n",
    "\n",
    "Last modified: 2017/08/10"
   ]
  },
  {
   "cell_type": "markdown",
   "metadata": {},
   "source": [
    "## Table of contents: <a class = \"anchor\" id = \"toc\"></a>\n",
    "\n",
    "01. [Ruby control structures](#controlstructures)\n",
    "02. [Methods](#methods)\n",
    "03. [Objects](#objects)"
   ]
  },
  {
   "cell_type": "markdown",
   "metadata": {},
   "source": [
    "## Ruby control structures <a class = \"anchor\" id = \"controlstructures\"></a>"
   ]
  },
  {
   "cell_type": "markdown",
   "metadata": {},
   "source": [
    "### `if/else if/else` structure"
   ]
  },
  {
   "cell_type": "markdown",
   "metadata": {},
   "source": [
    "Ruby's `if/else if/else` structure looks like this:\n",
    "\n",
    "    if <expression>\n",
    "        ...\n",
    "    elsif <expression>\n",
    "        ...\n",
    "    else\n",
    "        ...\n",
    "    end\n",
    "    \n",
    "For each block of `if/else if/else`, the first `true` statement is evaluated. For example:"
   ]
  },
  {
   "cell_type": "code",
   "execution_count": 29,
   "metadata": {},
   "outputs": [
    {
     "name": "stdout",
     "output_type": "stream",
     "text": [
      "x = 3\n"
     ]
    }
   ],
   "source": [
    "x = 3\n",
    "\n",
    "if x == 3\n",
    "  puts 'x = 3'\n",
    "elsif x == 4\n",
    "  puts 'x = 4'\n",
    "else\n",
    "  puts 'x unknown'\n",
    "end"
   ]
  },
  {
   "cell_type": "markdown",
   "metadata": {},
   "source": [
    "An alternate way of expressing `if/then` is through the *ternary operator*. The ternary operator's syntax is like this:\n",
    "\n",
    "    <condition> ? <true expression> : <false expression>\n",
    "\n",
    "For example:"
   ]
  },
  {
   "cell_type": "code",
   "execution_count": 30,
   "metadata": {},
   "outputs": [
    {
     "name": "stdout",
     "output_type": "stream",
     "text": [
      "+\n",
      "-\n"
     ]
    }
   ],
   "source": [
    "x = 1\n",
    "\n",
    "puts x > 0 ? \"+\" : \"-\"\n",
    "\n",
    "x = -1\n",
    "\n",
    "puts x > 0 ? \"+\" : \"-\""
   ]
  },
  {
   "cell_type": "markdown",
   "metadata": {},
   "source": [
    "### `unless` strcture"
   ]
  },
  {
   "cell_type": "markdown",
   "metadata": {},
   "source": [
    "In Ruby, the `unless` loop another way of writting `'if/else if` structure. It states that unless a certain condition is met, output some value. If that certain condition is met, then output a different value:\n",
    "\n",
    "    unless <condition>\n",
    "        ...\n",
    "    else\n",
    "        ...\n",
    "    end\n",
    "    \n",
    "For example:"
   ]
  },
  {
   "cell_type": "code",
   "execution_count": 31,
   "metadata": {},
   "outputs": [
    {
     "name": "stdout",
     "output_type": "stream",
     "text": [
      "negative: -2\n",
      "negative: -1\n",
      "negative: 0\n",
      "positive: 1\n",
      "positive: 2\n"
     ]
    }
   ],
   "source": [
    "k = -2\n",
    "while k <= 2\n",
    "  unless k > 0\n",
    "    puts 'negative: ' + k.to_s\n",
    "  else\n",
    "    puts 'positive: ' + k.to_s\n",
    "  end\n",
    "  k += 1\n",
    "end"
   ]
  },
  {
   "cell_type": "markdown",
   "metadata": {},
   "source": [
    "### `switch/case` structure"
   ]
  },
  {
   "cell_type": "markdown",
   "metadata": {},
   "source": [
    "Ruby's `swtich/case` structure has this syntax:\n",
    "\n",
    "    <result variable> = case <conditional variable>\n",
    "        when <match> then <result value>\n",
    "        ...\n",
    "        when <match> then <result value>\n",
    "        else <result value>\n",
    "    end\n",
    "    \n",
    "For example:"
   ]
  },
  {
   "cell_type": "code",
   "execution_count": 32,
   "metadata": {},
   "outputs": [
    {
     "name": "stdout",
     "output_type": "stream",
     "text": [
      "2\n"
     ]
    }
   ],
   "source": [
    "x = 1\n",
    "\n",
    "y = case x\n",
    "  when 0 then 1\n",
    "  when 1 then 2\n",
    "  when 2 then 3\n",
    "  else 10\n",
    "end\n",
    "\n",
    "puts y"
   ]
  },
  {
   "cell_type": "markdown",
   "metadata": {},
   "source": [
    "Instead of just a single value as a match, we can use a range as well:"
   ]
  },
  {
   "cell_type": "code",
   "execution_count": 33,
   "metadata": {},
   "outputs": [
    {
     "name": "stdout",
     "output_type": "stream",
     "text": [
      "satisfactory\n"
     ]
    }
   ],
   "source": [
    "x = 70\n",
    "\n",
    "y = case x\n",
    "  when 50..60 then 'not good'\n",
    "  when 60..80 then 'satisfactory'\n",
    "  when 80..100 then 'good'\n",
    "  else 'fail'\n",
    "end\n",
    "\n",
    "puts y"
   ]
  },
  {
   "cell_type": "markdown",
   "metadata": {},
   "source": [
    "### `while` loop"
   ]
  },
  {
   "cell_type": "markdown",
   "metadata": {},
   "source": [
    "The `while` loop can be written like this:\n",
    "\n",
    "    while <condition>\n",
    "        ...\n",
    "    end\n",
    "    \n",
    "It is evaluated while the condition is `tru`e. For example:"
   ]
  },
  {
   "cell_type": "code",
   "execution_count": 34,
   "metadata": {},
   "outputs": [
    {
     "name": "stdout",
     "output_type": "stream",
     "text": [
      "3\n"
     ]
    }
   ],
   "source": [
    "k = 0\n",
    "while k < 3\n",
    "  k += 1\n",
    "end\n",
    "puts k"
   ]
  },
  {
   "cell_type": "markdown",
   "metadata": {},
   "source": [
    "We can also use a `break if` condition which stops the `while` loop if the `break if` condition is `true`:"
   ]
  },
  {
   "cell_type": "code",
   "execution_count": 35,
   "metadata": {},
   "outputs": [
    {
     "name": "stdout",
     "output_type": "stream",
     "text": [
      "-2\n"
     ]
    }
   ],
   "source": [
    "k = 2\n",
    "while k > -5\n",
    "  k -= 2\n",
    "  break if k < 0\n",
    "end\n",
    "puts k"
   ]
  },
  {
   "cell_type": "markdown",
   "metadata": {},
   "source": [
    "### `until` loop"
   ]
  },
  {
   "cell_type": "markdown",
   "metadata": {},
   "source": [
    "In Ruby, the `do until` loop is expressed as `until`. It's syntax is like this:\n",
    "\n",
    "    until <condition>\n",
    "        ...\n",
    "    end\n",
    "    \n",
    "The `until` loop runs until the condition is `true`. For example:"
   ]
  },
  {
   "cell_type": "code",
   "execution_count": 36,
   "metadata": {},
   "outputs": [
    {
     "name": "stdout",
     "output_type": "stream",
     "text": [
      "-6\n"
     ]
    }
   ],
   "source": [
    "k = 2\n",
    "until k < -5\n",
    "  k -= 2\n",
    "end\n",
    "puts k # should be -6"
   ]
  },
  {
   "cell_type": "markdown",
   "metadata": {},
   "source": [
    "The `until` loop can also be written as a shorthand:\n",
    "\n",
    "    <output> until <condition>\n",
    "\n",
    "For example:"
   ]
  },
  {
   "cell_type": "code",
   "execution_count": 37,
   "metadata": {},
   "outputs": [
    {
     "name": "stdout",
     "output_type": "stream",
     "text": [
      "1\n",
      "2\n",
      "3\n",
      "4\n"
     ]
    }
   ],
   "source": [
    "k = 0\n",
    "puts k += 1 until k > 3"
   ]
  },
  {
   "cell_type": "markdown",
   "metadata": {},
   "source": [
    "### `for` loop"
   ]
  },
  {
   "cell_type": "markdown",
   "metadata": {},
   "source": [
    "The `for` loop re-runs code for a specified number of times. Ruby's syntax is:\n",
    "\n",
    "    for <variable> in <range>\n",
    "        ...\n",
    "    end\n",
    "    \n",
    "For example:"
   ]
  },
  {
   "cell_type": "code",
   "execution_count": 38,
   "metadata": {},
   "outputs": [
    {
     "name": "stdout",
     "output_type": "stream",
     "text": [
      "1\n",
      "2\n",
      "3\n",
      "4\n"
     ]
    },
    {
     "data": {
      "text/plain": [
       "1..4"
      ]
     },
     "execution_count": 38,
     "metadata": {},
     "output_type": "execute_result"
    }
   ],
   "source": [
    "for k in 1..4\n",
    "  puts k\n",
    "end"
   ]
  },
  {
   "cell_type": "markdown",
   "metadata": {},
   "source": [
    "The shorthand for the `for` loop is as follows:\n",
    "\n",
    "    for <variable> in <range> do ... end\n",
    "\n",
    "The `do` is necessary in shorthand. For example:"
   ]
  },
  {
   "cell_type": "code",
   "execution_count": 39,
   "metadata": {},
   "outputs": [
    {
     "name": "stdout",
     "output_type": "stream",
     "text": [
      "1\n",
      "2\n"
     ]
    },
    {
     "data": {
      "text/plain": [
       "1..2"
      ]
     },
     "execution_count": 39,
     "metadata": {},
     "output_type": "execute_result"
    }
   ],
   "source": [
    "for k in 1..2 do puts k end"
   ]
  },
  {
   "cell_type": "markdown",
   "metadata": {},
   "source": [
    "As with the `while` loop, we can add a `break if` in order to stop the `for` loop if a certain condition is met. However, only the `for` loop that the `break if` is contained in is stopped. If that `for` loop is nested, the other loop will keep running."
   ]
  },
  {
   "cell_type": "markdown",
   "metadata": {},
   "source": [
    "## Methods <a class = \"anchor\" id = \"methods\"></a>"
   ]
  },
  {
   "cell_type": "markdown",
   "metadata": {},
   "source": [
    "A Ruby method can be defined in the following way:\n",
    "\n",
    "    def <method name>(<arg1>, <arg2>, ...)\n",
    "        ... method algorithm ...\n",
    "        return <value> #though not necessary to return a value for all cases\n",
    "    end\n",
    "\n",
    "`return` gives a value back to the method caller. Pass arguments to the method using the () and listing arguments within it, separated by commas. If there are no arguments, follow the method name with ().\n",
    "\n",
    "An example of a method is here:"
   ]
  },
  {
   "cell_type": "code",
   "execution_count": 40,
   "metadata": {},
   "outputs": [
    {
     "data": {
      "text/plain": [
       ":adder"
      ]
     },
     "execution_count": 40,
     "metadata": {},
     "output_type": "execute_result"
    }
   ],
   "source": [
    "def adder(x, y)\n",
    "    z = x + y\n",
    "    return z\n",
    "end"
   ]
  },
  {
   "cell_type": "markdown",
   "metadata": {},
   "source": [
    "The `:mymethod` output shows that the method has been defined. To call it, simply invoke the method name:"
   ]
  },
  {
   "cell_type": "code",
   "execution_count": 41,
   "metadata": {},
   "outputs": [
    {
     "name": "stdout",
     "output_type": "stream",
     "text": [
      "Result from adder: \n",
      "6\n"
     ]
    }
   ],
   "source": [
    "puts 'Result from adder: '\n",
    "puts adder(2, 4)"
   ]
  },
  {
   "cell_type": "markdown",
   "metadata": {},
   "source": [
    "### Passing an unspecified number of arguments to a method"
   ]
  },
  {
   "cell_type": "markdown",
   "metadata": {},
   "source": [
    "Ruby allows you to pass a variable number of arguments to a method using the `*args` operator. Once the arguments are processed, they must be placed in an array using a loop:"
   ]
  },
  {
   "cell_type": "code",
   "execution_count": 42,
   "metadata": {},
   "outputs": [
    {
     "data": {
      "text/plain": [
       ":multiplybyten"
      ]
     },
     "execution_count": 42,
     "metadata": {},
     "output_type": "execute_result"
    }
   ],
   "source": [
    "def multiplybyten(*args)\n",
    "    args.each { |num_value| puts num_value*10 }\n",
    "    return 1\n",
    "end;"
   ]
  },
  {
   "cell_type": "markdown",
   "metadata": {},
   "source": [
    "Now, calling it gives:"
   ]
  },
  {
   "cell_type": "code",
   "execution_count": 44,
   "metadata": {},
   "outputs": [
    {
     "name": "stdout",
     "output_type": "stream",
     "text": [
      "First call:\n",
      "10\n",
      "20\n",
      "30\n",
      "Second call:\n",
      "40\n",
      "50\n",
      "Test return:\n",
      "40\n",
      "50\n",
      "1\n"
     ]
    }
   ],
   "source": [
    "puts 'First call:'\n",
    "multiplybyten(1, 2, 3)\n",
    "\n",
    "puts 'Second call:'\n",
    "multiplybyten(4, 5)\n",
    "\n",
    "puts 'Test return:'\n",
    "x = multiplybyten(4, 5)\n",
    "puts x"
   ]
  },
  {
   "cell_type": "markdown",
   "metadata": {},
   "source": [
    "The anonymous function used here will be described in a later section."
   ]
  },
  {
   "cell_type": "markdown",
   "metadata": {},
   "source": [
    "### Method aliases"
   ]
  },
  {
   "cell_type": "markdown",
   "metadata": {},
   "source": [
    "Methods can be copied under a different name (known as an *alias*) using the `alias` statement:\n",
    "\n",
    "    alias alias_name original_method\n",
    "    \n",
    "An example is shown here:"
   ]
  },
  {
   "cell_type": "code",
   "execution_count": 50,
   "metadata": {
    "collapsed": true
   },
   "outputs": [],
   "source": [
    "alias addition adder"
   ]
  },
  {
   "cell_type": "markdown",
   "metadata": {},
   "source": [
    "Now, testing `addition`:"
   ]
  },
  {
   "cell_type": "code",
   "execution_count": 49,
   "metadata": {},
   "outputs": [
    {
     "data": {
      "text/plain": [
       "30"
      ]
     },
     "execution_count": 49,
     "metadata": {},
     "output_type": "execute_result"
    }
   ],
   "source": [
    "addition(10, 20)"
   ]
  },
  {
   "cell_type": "markdown",
   "metadata": {},
   "source": [
    "## Objects <a class = \"anchor\" id = \"objects\"></a>"
   ]
  },
  {
   "cell_type": "markdown",
   "metadata": {},
   "source": [
    "To refresh, an *object* is a structure that categorizes relevant data (called *properties*) and functions (called *methods*) in its body. It was the software world's attempt at imitating how real-life interactions occur."
   ]
  },
  {
   "cell_type": "markdown",
   "metadata": {},
   "source": [
    "### Object example"
   ]
  },
  {
   "cell_type": "markdown",
   "metadata": {},
   "source": [
    "For example, different roles in a company can be considered \"objects.\" Everyone who works for the company is a human. Humans have sex (property), age (property), height (property), etc. They can sleep (method), talk (method), eat (method), etc.\n",
    "\n",
    "But, we know that not all humans who work at the company have the same job. Some are engineers, others are project managers, and others could be secretaries. Each role is known as a *class*. Every single class has all the properties and methods of a human, but have distinct attributes and functions of their own too. An engineer's monthly pay (property) and hours (property) could be different from that of a project manager's. An engineer has technical skills (methods) that a project manager may not have, while a project manager may have negotiation skills (methods) that an engineer could be lacking. These additional or modified properties and methods make engineers and project managers distinct \"classes.\" The fact that they are both humans and have traits and mannerisms that define a human means that they *inherited* those properties and methods.\n",
    "\n",
    "An engineer could also be divided into types, such as an electrical or mechanical engineer. An electrical engineer is a *subclass* of the engineer *superclass* and has properties and methods that is unique to that class. We say that they are all *members* of the engineer class, but they have different subclasses.\n",
    "\n",
    "A specific electrical engineer may be named Frank. Frank is an *instance* of the electrical engineer class and has all the properties and methods of that class, but a few unique ones of his own too. For example, Frank may be 38 and does controls systems analysis. On the other hand, Ann, another electrical engineer, is 26 and does analog design. Both Frank and Ann are 2 different instances of the electrical engineer class.\n",
    "\n",
    "Some information and actions are private to certain individuals. For example, Frank can't ask Ann for her bank account information. Ann's a bank account information (property) is *private*. However, Frank can ask what floor Ann works on. Ann's floor (property) is *public*. The same thing applies to methods as well. Ann cannot ask Frank to write out his social security number in front of her (private method). But, she can ask him to help her erase the white board (public method)."
   ]
  },
  {
   "cell_type": "markdown",
   "metadata": {},
   "source": [
    "### Object terminology"
   ]
  },
  {
   "cell_type": "markdown",
   "metadata": {},
   "source": [
    "Objects are a part of a *class*, a prototype that has the general properties and methods that defines that class. An *instance* of a class is one particular example of that class that has defined properties and methods. A collection of instances of a particular class are known as *members*. When a new class can be made from an existing class, it *inherits* some of the properties and methods of the former, meaning that those properties and methods carry over to the new subclass.\n",
    "\n",
    "A class that helps make another one is known as the *superclass*, while the one that is made is known as the *subclass*. Generalizing:\n",
    "* ... -> superclass -> class -> subclass -> ... -> instance\n",
    "\n",
    "Properties and methods have restrictions to them. *Private* properties and methods are those that can only be accessed by objects sharing the same class. *Public* properties and methods can be accessed by objects of any class.\n",
    "\n",
    "Creating an instance of a class is a process known as *instantiating*. Instantiating an instance of a class sets the default values of that particular instance. Instantiating can take many forms, but often involves the use of a *constructor*. A constructor is a simple method to build the properties of the class. In Ruby, often the constructor is the `new` method."
   ]
  },
  {
   "cell_type": "markdown",
   "metadata": {},
   "source": [
    "### Defining a class"
   ]
  },
  {
   "cell_type": "markdown",
   "metadata": {},
   "source": [
    "Classes can be defined using the `class` keyword:\n",
    "\n",
    "    class <class name>\n",
    "        def initialize ()\n",
    "            ...\n",
    "        end\n",
    "        \n",
    "        def method1\n",
    "            ...\n",
    "        end\n",
    "        \n",
    "        ...\n",
    "    end\n",
    "    \n",
    "The `def initialize ()` method is important and belongs at the beginning of every class you create. This is where all the properties inherent to the class are first defined and initialized. It is called on by the `new` method:\n",
    "\n",
    "    <variable> = <class>.new()\n",
    "\n",
    "All classes must begin with a capital letter.\n",
    "\n",
    "An example of class definition is as follows:"
   ]
  },
  {
   "cell_type": "code",
   "execution_count": 54,
   "metadata": {},
   "outputs": [
    {
     "data": {
      "text/plain": [
       ":greet"
      ]
     },
     "execution_count": 54,
     "metadata": {},
     "output_type": "execute_result"
    }
   ],
   "source": [
    "class MyClass\n",
    "  def initialize ()\n",
    "  end\n",
    "\n",
    "  def greet\n",
    "    puts 'Hello, world!'\n",
    "  end\n",
    "end"
   ]
  },
  {
   "cell_type": "markdown",
   "metadata": {},
   "source": [
    "### Creating an instance of a class"
   ]
  },
  {
   "cell_type": "markdown",
   "metadata": {},
   "source": [
    "As mentioned above, an instance can be created using the `new` method:"
   ]
  },
  {
   "cell_type": "code",
   "execution_count": 55,
   "metadata": {},
   "outputs": [
    {
     "data": {
      "text/plain": [
       "#<MyClass:0x00000004161990>"
      ]
     },
     "execution_count": 55,
     "metadata": {},
     "output_type": "execute_result"
    }
   ],
   "source": [
    "greeter = MyClass.new()"
   ]
  },
  {
   "cell_type": "markdown",
   "metadata": {},
   "source": [
    "We can now call on the `greet` method:"
   ]
  },
  {
   "cell_type": "code",
   "execution_count": 57,
   "metadata": {},
   "outputs": [
    {
     "name": "stdout",
     "output_type": "stream",
     "text": [
      "Hello, world!\n"
     ]
    }
   ],
   "source": [
    "greeter.greet()"
   ]
  },
  {
   "cell_type": "markdown",
   "metadata": {},
   "source": [
    "### Accessing instance properties"
   ]
  },
  {
   "cell_type": "markdown",
   "metadata": {},
   "source": [
    "Instance properties are private to a particular class. To access the properties from outside the class, they need to be defined within *accessor methods*.\n",
    "\n",
    "The variable properties defined with accessor methods need to have the `@` character before them. The `@` character tells Ruby that the variable is found as a property within that class, and not another variable that shares the same name from outside that class.\n",
    "\n",
    "There are 2 types of accessor methods:\n",
    "* getter\n",
    "* setter\n",
    "\n",
    "*Getter methods* retrieve a property value while *setter methods* modify a property value.\n",
    "\n",
    "An example of an accessor method is:"
   ]
  },
  {
   "cell_type": "code",
   "execution_count": 77,
   "metadata": {},
   "outputs": [
    {
     "name": "stdout",
     "output_type": "stream",
     "text": [
      "Setter method:\n",
      "Getter method:\n",
      "Justin\n",
      "Setter method:\n",
      "Getter method:\n",
      "Lee\n"
     ]
    }
   ],
   "source": [
    "class MyClass\n",
    "  def name # getter accessor method named 'name'\n",
    "      puts @name\n",
    "  end\n",
    "  \n",
    "  def name=(new_name) # setter accessor method named 'name'\n",
    "      @name = new_name\n",
    "  end\n",
    "  \n",
    "  def initialize ()\n",
    "  end\n",
    "\n",
    "  def greet\n",
    "    puts 'Hello, world!'\n",
    "  end\n",
    "end\n",
    "\n",
    "greeter = MyClass.new()\n",
    "puts 'Setter method:'\n",
    "greeter.name = 'Justin'\n",
    "puts 'Getter method:'\n",
    "greeter.name\n",
    "puts 'Setter method:'\n",
    "greeter.name = 'Lee'\n",
    "puts 'Getter method:'\n",
    "greeter.name"
   ]
  },
  {
   "cell_type": "markdown",
   "metadata": {},
   "source": [
    "### Instance methods"
   ]
  },
  {
   "cell_type": "markdown",
   "metadata": {},
   "source": [
    "In the above examples, the `greet` method as an *instance method*. Instance methods are methods that can be called on an instance of the class. Let's call on the `greet` method we defined:"
   ]
  },
  {
   "cell_type": "code",
   "execution_count": 82,
   "metadata": {},
   "outputs": [
    {
     "name": "stdout",
     "output_type": "stream",
     "text": [
      "Hello, world!\n"
     ]
    }
   ],
   "source": [
    "a.greet"
   ]
  },
  {
   "cell_type": "markdown",
   "metadata": {},
   "source": [
    "### Class variables"
   ]
  },
  {
   "cell_type": "markdown",
   "metadata": {},
   "source": [
    "*Class variables* are shared between all members of a class, so a change in one instance affects all of the other instances. This allows for easy maintance across the members. They are denoted by `@@`.\n",
    "\n",
    "For example:"
   ]
  },
  {
   "cell_type": "code",
   "execution_count": 81,
   "metadata": {},
   "outputs": [
    {
     "name": "stdout",
     "output_type": "stream",
     "text": [
      "Justin\n",
      "Lee\n",
      "Jack\n",
      "Lee\n",
      "Smith\n",
      "Smith\n"
     ]
    }
   ],
   "source": [
    "class MyClass\n",
    "  def lastname\n",
    "    puts @@lastname\n",
    "  end\n",
    "  \n",
    "  def lastname=(new_last_name)\n",
    "    @@lastname = new_last_name\n",
    "  end\n",
    "  \n",
    "  def firstname # getter accessor method named 'name'\n",
    "      puts @firstname\n",
    "  end\n",
    "  \n",
    "  def firstname=(new_name) # setter accessor method named 'name'\n",
    "      @firstname = new_name\n",
    "  end\n",
    "  \n",
    "  def initialize ()\n",
    "  end\n",
    "\n",
    "  def greet\n",
    "    puts 'Hello, world!'\n",
    "  end\n",
    "end\n",
    "\n",
    "a = MyClass.new()\n",
    "a.firstname = 'Justin'\n",
    "a.lastname = 'Lee'\n",
    "a.firstname\n",
    "a.lastname\n",
    "b = MyClass.new()\n",
    "b.firstname = 'Jack'\n",
    "b.firstname\n",
    "b.lastname\n",
    "b.lastname = 'Smith'\n",
    "a.lastname\n",
    "b.lastname"
   ]
  },
  {
   "cell_type": "markdown",
   "metadata": {},
   "source": [
    "### Class inheritance"
   ]
  },
  {
   "cell_type": "markdown",
   "metadata": {},
   "source": [
    "Subclasses inherit properties and methosd from a superclass using the `<` operator in a class definition:\n",
    "\n",
    "    def <subclass> < <superclass>\n",
    "    \n",
    "        ... #add more methods and properties here\n",
    "        \n",
    "    end\n",
    "\n",
    "The inheritance from a single class is known as *single inheritance*.\n",
    "\n",
    "For example:"
   ]
  },
  {
   "cell_type": "code",
   "execution_count": 84,
   "metadata": {},
   "outputs": [
    {
     "name": "stdout",
     "output_type": "stream",
     "text": [
      "Hello, world!\n",
      "Hello, world!\n",
      "2\n"
     ]
    }
   ],
   "source": [
    "class NewClass < MyClass\n",
    "  \n",
    "  def addition\n",
    "    puts 1 + 1\n",
    "  end\n",
    "\n",
    "end\n",
    "\n",
    "c = MyClass.new()\n",
    "c.greet\n",
    "\n",
    "d = NewClass.new()\n",
    "d.greet\n",
    "d.addition"
   ]
  },
  {
   "cell_type": "markdown",
   "metadata": {},
   "source": [
    "But calling this will return an error:"
   ]
  },
  {
   "cell_type": "code",
   "execution_count": 85,
   "metadata": {},
   "outputs": [
    {
     "ename": "NoMethodError",
     "evalue": "private method `addition' called for #<MyClass:0x000000036b2b70>",
     "output_type": "error",
     "traceback": [
      "\u001b[31mNoMethodError\u001b[0m: private method `addition' called for #<MyClass:0x000000036b2b70>",
      "\u001b[37m(pry):763:in `<main>'\u001b[0m",
      "\u001b[37mC:/Ruby24-x64/lib/ruby/gems/2.4.0/gems/pry-0.10.4/lib/pry/pry_instance.rb:355:in `eval'\u001b[0m",
      "\u001b[37mC:/Ruby24-x64/lib/ruby/gems/2.4.0/gems/pry-0.10.4/lib/pry/pry_instance.rb:355:in `evaluate_ruby'\u001b[0m",
      "\u001b[37mC:/Ruby24-x64/lib/ruby/gems/2.4.0/gems/pry-0.10.4/lib/pry/pry_instance.rb:323:in `handle_line'\u001b[0m",
      "\u001b[37mC:/Ruby24-x64/lib/ruby/gems/2.4.0/gems/pry-0.10.4/lib/pry/pry_instance.rb:243:in `block (2 levels) in eval'\u001b[0m",
      "\u001b[37mC:/Ruby24-x64/lib/ruby/gems/2.4.0/gems/pry-0.10.4/lib/pry/pry_instance.rb:242:in `catch'\u001b[0m",
      "\u001b[37mC:/Ruby24-x64/lib/ruby/gems/2.4.0/gems/pry-0.10.4/lib/pry/pry_instance.rb:242:in `block in eval'\u001b[0m",
      "\u001b[37mC:/Ruby24-x64/lib/ruby/gems/2.4.0/gems/pry-0.10.4/lib/pry/pry_instance.rb:241:in `catch'\u001b[0m",
      "\u001b[37mC:/Ruby24-x64/lib/ruby/gems/2.4.0/gems/pry-0.10.4/lib/pry/pry_instance.rb:241:in `eval'\u001b[0m",
      "\u001b[37mC:/Ruby24-x64/lib/ruby/gems/2.4.0/gems/iruby-0.3/lib/iruby/backend.rb:66:in `eval'\u001b[0m",
      "\u001b[37mC:/Ruby24-x64/lib/ruby/gems/2.4.0/gems/iruby-0.3/lib/iruby/backend.rb:12:in `eval'\u001b[0m",
      "\u001b[37mC:/Ruby24-x64/lib/ruby/gems/2.4.0/gems/iruby-0.3/lib/iruby/kernel.rb:87:in `execute_request'\u001b[0m",
      "\u001b[37mC:/Ruby24-x64/lib/ruby/gems/2.4.0/gems/iruby-0.3/lib/iruby/kernel.rb:47:in `dispatch'\u001b[0m",
      "\u001b[37mC:/Ruby24-x64/lib/ruby/gems/2.4.0/gems/iruby-0.3/lib/iruby/kernel.rb:37:in `run'\u001b[0m",
      "\u001b[37mC:/Ruby24-x64/lib/ruby/gems/2.4.0/gems/iruby-0.3/lib/iruby/command.rb:70:in `run_kernel'\u001b[0m",
      "\u001b[37mC:/Ruby24-x64/lib/ruby/gems/2.4.0/gems/iruby-0.3/lib/iruby/command.rb:34:in `run'\u001b[0m",
      "\u001b[37mC:/Ruby24-x64/lib/ruby/gems/2.4.0/gems/iruby-0.3/bin/iruby:5:in `<top (required)>'\u001b[0m",
      "\u001b[37mC:/Ruby24-x64/bin/iruby:22:in `load'\u001b[0m",
      "\u001b[37mC:/Ruby24-x64/bin/iruby:22:in `<main>'\u001b[0m"
     ]
    }
   ],
   "source": [
    "c.addition"
   ]
  }
 ],
 "metadata": {
  "kernelspec": {
   "display_name": "Ruby 2.4.1",
   "language": "ruby",
   "name": "ruby"
  },
  "language_info": {
   "file_extension": ".rb",
   "mimetype": "application/x-ruby",
   "name": "ruby",
   "version": "2.4.1"
  }
 },
 "nbformat": 4,
 "nbformat_minor": 2
}
