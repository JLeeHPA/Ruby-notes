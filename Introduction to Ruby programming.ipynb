{
 "cells": [
  {
   "cell_type": "markdown",
   "metadata": {},
   "source": [
    "# Introduction to Ruby programming"
   ]
  },
  {
   "cell_type": "markdown",
   "metadata": {},
   "source": [
    "## Table of contents: <a class = \"anchor\" id = \"toc\"></a>\n",
    "\n",
    "01. [Ruby basics](#basics)\n",
    "02. [Ruby program files](#rubyprogramfiles)\n",
    "03. [Gems](#gems)\n",
    "04. [Commenting](#comments)\n",
    "05. [Variables](#variables)\n",
    "06. [Methods](#methods)"
   ]
  },
  {
   "cell_type": "markdown",
   "metadata": {},
   "source": [
    "# Ruby basics <a class = \"anchor\" id = \"basics\"></a>"
   ]
  },
  {
   "cell_type": "markdown",
   "metadata": {},
   "source": [
    "Ruby is an *object-oriented programming language* (OOP) in which all constructs (strings, integers, variables, etc.) are objects. Each object belongs to a *class*, a prototype for a particular kind of object. For example, an Apple iPhone is a specific example of a smartphone. Smartphones here would be the class, and the Apple iPhone would be an *instance* of the class. All objects have 2 features:\n",
    "* properties - values stored that help define a class and separate one class from another\n",
    "* methods - how a particular class goes about accomplishing a task\n",
    "\n",
    "An instance has all attributes of its mother class, but includes additional or modified features. For example, both the Samsung Galaxy and Apple iPhone can call and text people, but they have different operating systems and programs. The new or modified properties and methods in an instance do not change their prototype's template properties and methods. An iPhone and a Galaxy may have different encryption protocols for texting, but the general idea of texting found in the Smartphones class remains untouched.\n",
    "\n",
    "To create a new instance of a classs, Ruby uses a *constructor*. A constructor is a method that creates an instance out of a prototype class. Ruby's constructor is the `new()` method. For example:\n",
    "\n",
    "    new_phone = Smartphone.new(\"HTC One\")\n",
    "\n",
    "Under Ruby's hood, what differentiates each class instance, apart from properties and methods, is its *object identifier*. Properties for a specific instance are known as *instance variables*. Methods are known as *instance methods*. In Ruby, methods are invoked by sending a message to the method:\n",
    "\n",
    "    new_phone.kind_of?(Smartphone)\n",
    "    \n",
    "With that being said, Ruby has a variety of manipulations that can be achived using objects, as will be covered shortly."
   ]
  },
  {
   "cell_type": "markdown",
   "metadata": {},
   "source": [
    "[(back to top)](#toc)"
   ]
  },
  {
   "cell_type": "markdown",
   "metadata": {},
   "source": [
    "## Ruby program files <a class=\"anchor\" id=\"rubyprogramfiles\"></a>"
   ]
  },
  {
   "cell_type": "markdown",
   "metadata": {},
   "source": [
    "Ruby code has the file ending \"`.rb`\":\n",
    "\n",
    "    myprogram.rb\n",
    "\n",
    "To run a Ruby program from the command line we use:\n",
    "\n",
    "    $ ruby myprogram.rb"
   ]
  },
  {
   "cell_type": "markdown",
   "metadata": {},
   "source": [
    "[(back to top)](#toc)"
   ]
  },
  {
   "cell_type": "markdown",
   "metadata": {},
   "source": [
    "## Gems <a class=\"anchor\" id=\"gems\"></a>"
   ]
  },
  {
   "cell_type": "markdown",
   "metadata": {},
   "source": [
    "Most of the functionality in Ruby is provided by *gems*. There is a large collection of gems that provides *cross-platform* implementations of common facilities such as access to the operating system, file I/O, string management, network communication, and much more.\n",
    "\n",
    "Gems can be downloaded through the RubyGems packaging system. For example:\n",
    "\n",
    "    gem install iruby\n",
    "    \n",
    "To view documentation on the gem, use the `ri` statement:\n",
    "\n",
    "    ri iruby\n",
    "    \n",
    "To use a gem in a Ruby program it first has to be imported. A module can be imported using the `require` statement. `require` lodas extra libraries that you may need. For example:\n",
    "\n",
    "    require 'aws/s3' # the S3 gem\n",
    "\n",
    "However, if you are sharing your project or working on different computers, it helps to have all the right gems so that you don't have to constantly reinstall. Use the `bundler` gem to do this:\n",
    "\n",
    "    gem install bundler\n",
    "    \n",
    "Afterwards, in the root of your project, create a file named \"Gemfile\", which declares whatever gems the project needs."
   ]
  },
  {
   "cell_type": "markdown",
   "metadata": {},
   "source": [
    "### Bundler"
   ]
  },
  {
   "cell_type": "markdown",
   "metadata": {},
   "source": [
    "In the first line, give your \"Gemfile\" a source repository to download the gems from (example: http://rubygems.org):"
   ]
  },
  {
   "cell_type": "code",
   "execution_count": null,
   "metadata": {},
   "outputs": [],
   "source": [
    "source \"http://rubygems.org\""
   ]
  },
  {
   "cell_type": "markdown",
   "metadata": {},
   "source": [
    "Afterwards, just list your gems:"
   ]
  },
  {
   "cell_type": "code",
   "execution_count": null,
   "metadata": {},
   "outputs": [],
   "source": [
    "gem \"rails\", \"3.0.1\""
   ]
  },
  {
   "cell_type": "markdown",
   "metadata": {},
   "source": [
    "### References"
   ]
  },
  {
   "cell_type": "markdown",
   "metadata": {},
   "source": [
    " * The Ruby Toolbox: https://www.ruby-toolbox.com/\n",
    " * Ruby Gems: https://rubygems.org/"
   ]
  },
  {
   "cell_type": "markdown",
   "metadata": {},
   "source": [
    "[(back to top)](#toc)"
   ]
  },
  {
   "cell_type": "markdown",
   "metadata": {},
   "source": [
    "## Hello World program <a class=\"anchor\" id=\"helloworld\"></a>"
   ]
  },
  {
   "cell_type": "markdown",
   "metadata": {},
   "source": [
    "The time honored \"Hello World!\" program can be implemented in Ruby like so:"
   ]
  },
  {
   "cell_type": "code",
   "execution_count": 38,
   "metadata": {},
   "outputs": [
    {
     "name": "stdout",
     "output_type": "stream",
     "text": [
      "Hello, world!\n"
     ]
    }
   ],
   "source": [
    "puts \"Hello, world!\""
   ]
  },
  {
   "cell_type": "markdown",
   "metadata": {},
   "source": [
    "where the `puts` statement writes 'Hello, World!' to the console. Notice that if you remove `puts`, you still get the correct output:"
   ]
  },
  {
   "cell_type": "code",
   "execution_count": 39,
   "metadata": {},
   "outputs": [
    {
     "data": {
      "text/plain": [
       "\"Hello, world!\""
      ]
     },
     "execution_count": 39,
     "metadata": {},
     "output_type": "execute_result"
    }
   ],
   "source": [
    "\"Hello, world!\""
   ]
  },
  {
   "cell_type": "markdown",
   "metadata": {},
   "source": [
    "The difference is that the console just outputs whatever value you supply it, in this case being 'Hello, world!' `puts` writes a specific value to the console."
   ]
  },
  {
   "cell_type": "markdown",
   "metadata": {},
   "source": [
    "[(back to top)](#toc)"
   ]
  },
  {
   "cell_type": "markdown",
   "metadata": {},
   "source": [
    "## Commenting <a class=\"anchor\" id=\"comments\"></a>"
   ]
  },
  {
   "cell_type": "markdown",
   "metadata": {},
   "source": [
    "Ruby single line comments use the pound (#) symbol:"
   ]
  },
  {
   "cell_type": "code",
   "execution_count": 4,
   "metadata": {
    "collapsed": true
   },
   "outputs": [],
   "source": [
    "# This is a comment"
   ]
  },
  {
   "cell_type": "markdown",
   "metadata": {},
   "source": [
    "Multiline comments use the `=begin` and `=end` markers:"
   ]
  },
  {
   "cell_type": "code",
   "execution_count": 6,
   "metadata": {
    "collapsed": true
   },
   "outputs": [],
   "source": [
    "=begin\n",
    "      This\n",
    "      is a\n",
    "      block\n",
    "      of\n",
    "      comments\n",
    "=end"
   ]
  },
  {
   "cell_type": "markdown",
   "metadata": {},
   "source": [
    "If something is signified as a comment, Ruby's interpreter will skip over it. Single line commends end on the carriage return to the next line."
   ]
  },
  {
   "cell_type": "markdown",
   "metadata": {},
   "source": [
    "[(back to top)](#toc)"
   ]
  },
  {
   "cell_type": "markdown",
   "metadata": {},
   "source": [
    "## Variables <a class=\"anchor\" id=\"variables\"></a>"
   ]
  },
  {
   "cell_type": "markdown",
   "metadata": {},
   "source": [
    "In Ruby, all variables are objects corresponding to the properties and methods of their stored values. They are dynamically typed and the type of the variable can be changed later on in code.\n",
    "\n",
    "Ruby scopes are:\n",
    "<table>\n",
    "    <tr>\n",
    "        <th>**scope**</th>\n",
    "        <th>**description**</th>\n",
    "        <th>**begins with**</th>\n",
    "        <th>**example**</th>\n",
    "    </tr>\n",
    "    <tr>\n",
    "        <td>global</td>\n",
    "        <td>can be modified from anywhere in the overhead program</td>\n",
    "        <td>$</td>\n",
    "        <td>`$myvar`</td>\n",
    "    </tr>\n",
    "    <tr>\n",
    "        <td>class</td>\n",
    "        <td>values owned by entire object class (shared with all instances)</td>\n",
    "        <td>@@</td>\n",
    "        <td>`@@school`</td>\n",
    "    </tr>\n",
    "    <tr>\n",
    "        <td>instance</td>\n",
    "        <td>values owned by specific instance of object</td>\n",
    "        <td>@</td>\n",
    "        <td>`@age`</td>\n",
    "    </tr>\n",
    "    <tr>\n",
    "        <td>local</td>\n",
    "        <td>values remain until the end of code construct in which they are declared</td>\n",
    "        <td>[a - z], [A - Z], _</td>\n",
    "        <td>`myvar`</td>\n",
    "    </tr>\n",
    "    <tr>\n",
    "        <td>constant</td>\n",
    "        <td>values accessible to all code constructs in the overhead program, but unlikely to change</td>\n",
    "        <td>[A - Z]</td>\n",
    "        <td>`MYCONSTANT`</td>\n",
    "    </tr>\n",
    "</table>\n",
    "\n",
    "A few other variables are `nil`, which is assigned to uninitialized variables, and `self`, which refers to the currently existing object."
   ]
  },
  {
   "cell_type": "markdown",
   "metadata": {},
   "source": [
    "### Declaring a variable"
   ]
  },
  {
   "cell_type": "markdown",
   "metadata": {},
   "source": [
    "Variables are declared and assigned values using the assignment operator (=). For example:"
   ]
  },
  {
   "cell_type": "code",
   "execution_count": 9,
   "metadata": {},
   "outputs": [
    {
     "data": {
      "text/plain": [
       "2"
      ]
     },
     "execution_count": 9,
     "metadata": {},
     "output_type": "execute_result"
    }
   ],
   "source": [
    "x = 2"
   ]
  },
  {
   "cell_type": "markdown",
   "metadata": {},
   "source": [
    "Variables are also capable of parallel assignment:"
   ]
  },
  {
   "cell_type": "code",
   "execution_count": 14,
   "metadata": {},
   "outputs": [
    {
     "name": "stdout",
     "output_type": "stream",
     "text": [
      "1\n",
      "2\n",
      "3\n"
     ]
    }
   ],
   "source": [
    "a, b, c = 1, 2, 3\n",
    "puts a\n",
    "puts b\n",
    "puts c"
   ]
  },
  {
   "cell_type": "markdown",
   "metadata": {},
   "source": [
    "### Identifying variable type"
   ]
  },
  {
   "cell_type": "markdown",
   "metadata": {},
   "source": [
    "Variable type can be identified using the `kind_of?` method found in each object in Ruby. For example:"
   ]
  },
  {
   "cell_type": "code",
   "execution_count": 16,
   "metadata": {},
   "outputs": [
    {
     "name": "stdout",
     "output_type": "stream",
     "text": [
      "true\n"
     ]
    }
   ],
   "source": [
    "puts a.kind_of?(Integer)"
   ]
  },
  {
   "cell_type": "markdown",
   "metadata": {},
   "source": [
    "The class of a variable can also be deduced using the `class` method:"
   ]
  },
  {
   "cell_type": "code",
   "execution_count": 18,
   "metadata": {},
   "outputs": [
    {
     "name": "stdout",
     "output_type": "stream",
     "text": [
      "Integer\n"
     ]
    }
   ],
   "source": [
    "puts a.class"
   ]
  },
  {
   "cell_type": "code",
   "execution_count": 19,
   "metadata": {},
   "outputs": [
    {
     "name": "stdout",
     "output_type": "stream",
     "text": [
      "String\n"
     ]
    }
   ],
   "source": [
    "puts \"Hello, world!\".class"
   ]
  },
  {
   "cell_type": "markdown",
   "metadata": {},
   "source": [
    "### Changing variable type"
   ]
  },
  {
   "cell_type": "markdown",
   "metadata": {},
   "source": [
    "Variable types can be changed with a mere reassignment:"
   ]
  },
  {
   "cell_type": "code",
   "execution_count": 20,
   "metadata": {},
   "outputs": [
    {
     "name": "stdout",
     "output_type": "stream",
     "text": [
      "Integer\n"
     ]
    }
   ],
   "source": [
    "x = 10\n",
    "puts x.class"
   ]
  },
  {
   "cell_type": "code",
   "execution_count": 22,
   "metadata": {},
   "outputs": [
    {
     "name": "stdout",
     "output_type": "stream",
     "text": [
      "String\n"
     ]
    }
   ],
   "source": [
    "x = 'Hello, World!'\n",
    "puts x.class"
   ]
  },
  {
   "cell_type": "markdown",
   "metadata": {},
   "source": [
    "### Converting variable values between types"
   ]
  },
  {
   "cell_type": "markdown",
   "metadata": {},
   "source": [
    "Variable values can be converted between types and classes using the object methods.\n",
    "\n",
    "Common ones include:\n",
    "* `to_s`\n",
    "* `to_f`\n",
    "\n",
    "An example is as follows:"
   ]
  },
  {
   "cell_type": "code",
   "execution_count": 30,
   "metadata": {},
   "outputs": [
    {
     "data": {
      "text/plain": [
       "10"
      ]
     },
     "execution_count": 30,
     "metadata": {},
     "output_type": "execute_result"
    }
   ],
   "source": [
    "x = 10"
   ]
  },
  {
   "cell_type": "code",
   "execution_count": 29,
   "metadata": {},
   "outputs": [
    {
     "data": {
      "text/plain": [
       "\"10\""
      ]
     },
     "execution_count": 29,
     "metadata": {},
     "output_type": "execute_result"
    }
   ],
   "source": [
    "x.to_s"
   ]
  },
  {
   "cell_type": "markdown",
   "metadata": {},
   "source": [
    "### Detecting variable scope"
   ]
  },
  {
   "cell_type": "markdown",
   "metadata": {},
   "source": [
    "Variable scope can be detected using the `defined?` method. If a variable's scope is defined, it will return the scope value, and if not, it will return `nil`.\n",
    "\n",
    "For example:"
   ]
  },
  {
   "cell_type": "code",
   "execution_count": 34,
   "metadata": {},
   "outputs": [
    {
     "data": {
      "text/plain": [
       "\"local-variable\""
      ]
     },
     "execution_count": 34,
     "metadata": {},
     "output_type": "execute_result"
    }
   ],
   "source": [
    "defined? x"
   ]
  },
  {
   "cell_type": "code",
   "execution_count": 37,
   "metadata": {},
   "outputs": [
    {
     "data": {
      "text/plain": [
       "\"constant\""
      ]
     },
     "execution_count": 37,
     "metadata": {},
     "output_type": "execute_result"
    }
   ],
   "source": [
    "defined? NEWCONSTANT"
   ]
  },
  {
   "cell_type": "markdown",
   "metadata": {},
   "source": [
    "### System global variables\n",
    "\n",
    "Ruby as the following pre-defined global variables:\n",
    "\n",
    "<table>\n",
    "    <tr>\n",
    "        <th>**variable**</th>\n",
    "        <th>**value**</th>\n",
    "    </tr>\n",
    "    <tr>\n",
    "        <td>`$@`</td>\n",
    "        <td>location of last error</td>\n",
    "    </tr>\n",
    "    <tr>\n",
    "        <td>`$_`</td>\n",
    "        <td>string last read by `gets`</td>\n",
    "    </tr>\n",
    "    <tr>\n",
    "        <td>`$.`</td>\n",
    "        <td>last line number red by the Ruby interpreter</td>\n",
    "    </tr>\n",
    "    <tr>\n",
    "        <td>`$&`</td>\n",
    "        <td>last string matched by regular expression</td>\n",
    "    </tr>\n",
    "    <tr>\n",
    "        <td>`$~`</td>\n",
    "        <td>last regular expression match</td>\n",
    "    </tr>\n",
    "    <tr>\n",
    "        <td>`$n`</td>\n",
    "        <td>nth subexpression in last regular expression match</td>\n",
    "    </tr>\n",
    "    <tr>\n",
    "        <td>`$=`</td>\n",
    "        <td>case-sensitivity flag</td>\n",
    "    </tr>\n",
    "    <tr>\n",
    "        <td>`$/`</td>\n",
    "        <td>input record separator</td>\n",
    "    </tr>\n",
    "    <tr>\n",
    "        <td>`$\\`</td>\n",
    "        <td>output record separator</td>\n",
    "    </tr>\n",
    "    <tr>\n",
    "        <td>`$0`</td>\n",
    "        <td>name of current Ruby script file being executed</td>\n",
    "    </tr>\n",
    "    <tr>\n",
    "        <td>`$?`</td>\n",
    "        <td>exit status of last child executed</td>\n",
    "    </tr>\n",
    "</table>"
   ]
  },
  {
   "cell_type": "markdown",
   "metadata": {},
   "source": [
    "### Constants"
   ]
  },
  {
   "cell_type": "markdown",
   "metadata": {},
   "source": [
    "A constant stores a value for the duration of the program's execution. They start with a capital letter, though the convention is to use all capital letters when naming the variable:"
   ]
  },
  {
   "cell_type": "code",
   "execution_count": 31,
   "metadata": {},
   "outputs": [
    {
     "name": "stdout",
     "output_type": "stream",
     "text": [
      "This is a constant.\n"
     ]
    }
   ],
   "source": [
    "NEWCONSTANT = 'This is a constant.'\n",
    "puts NEWCONSTANT"
   ]
  },
  {
   "cell_type": "markdown",
   "metadata": {},
   "source": [
    "The value of a constant can be changed, but Ruby will issue a warning when it happens:"
   ]
  },
  {
   "cell_type": "code",
   "execution_count": 32,
   "metadata": {},
   "outputs": [
    {
     "name": "stderr",
     "output_type": "stream",
     "text": [
      "(pry):57: warning: already initialized constant NEWCONSTANT\n",
      "(pry):55: warning: previous definition of NEWCONSTANT was here\n"
     ]
    },
    {
     "data": {
      "text/plain": [
       "\"Changing the value.\""
      ]
     },
     "execution_count": 32,
     "metadata": {},
     "output_type": "execute_result"
    }
   ],
   "source": [
    "NEWCONSTANT = 'Changing the value.'"
   ]
  },
  {
   "cell_type": "markdown",
   "metadata": {},
   "source": [
    "### Classes of numbers"
   ]
  },
  {
   "cell_type": "markdown",
   "metadata": {},
   "source": [
    "Ruby has the following classes for numbers:\n",
    "\n",
    "<table>\n",
    "    <tr>\n",
    "        <th>**class**</th>\n",
    "        <th>**description**</th>\n",
    "    </tr>\n",
    "    <tr>\n",
    "        <td>integer</td>\n",
    "        <td>whole valued numbers that are found on the real line</td>\n",
    "    </tr>\n",
    "    <tr>\n",
    "        <td>fixnum</td>\n",
    "        <td>integer values that can be expressed in a word</td>\n",
    "    </tr>\n",
    "    <tr>\n",
    "        <td>bignum</td>\n",
    "        <td>integer values that can be expressed in greater than a word</td>\n",
    "    </tr>\n",
    "    <tr>\n",
    "        <td>float</td>\n",
    "        <td>double precision floating point representation of numbers</td>\n",
    "    </tr>\n",
    "    <tr>\n",
    "        <td>rational</td>\n",
    "        <td>numbers that can be expressed as ratios, where the denominator is non-zero</td>\n",
    "    </tr>\n",
    "</table>"
   ]
  },
  {
   "cell_type": "markdown",
   "metadata": {},
   "source": [
    "[(back to top)](#toc)"
   ]
  },
  {
   "cell_type": "markdown",
   "metadata": {},
   "source": [
    "## Methods <a class = \"anchor\" id = \"methods\"></a>"
   ]
  },
  {
   "cell_type": "markdown",
   "metadata": {},
   "source": [
    "A Ruby method can be defined in the following way:\n",
    "\n",
    "    def <method name>(<arg1>, <arg2>, ...)\n",
    "        ... method algorithm ...\n",
    "        return <value> #though not necessary to return a value for all cases\n",
    "    end\n",
    "\n",
    "`return` gives a value back to the method caller. Pass arguments to the method using the () and listing arguments within it, separated by commas. If there are no arguments, follow the method name with ().\n",
    "\n",
    "An example of a method is here:"
   ]
  },
  {
   "cell_type": "code",
   "execution_count": 48,
   "metadata": {},
   "outputs": [
    {
     "data": {
      "text/plain": [
       ":adder"
      ]
     },
     "execution_count": 48,
     "metadata": {},
     "output_type": "execute_result"
    }
   ],
   "source": [
    "def adder(x, y)\n",
    "    z = x + y\n",
    "    return z\n",
    "end"
   ]
  },
  {
   "cell_type": "markdown",
   "metadata": {},
   "source": [
    "The `:mymethod` output shows that the method has been defined. To call it, simply invoke the method name:"
   ]
  },
  {
   "cell_type": "code",
   "execution_count": 52,
   "metadata": {},
   "outputs": [
    {
     "name": "stdout",
     "output_type": "stream",
     "text": [
      "Result from adder: \n",
      "6\n"
     ]
    }
   ],
   "source": [
    "puts 'Result from adder: '\n",
    "puts adder(2, 4)"
   ]
  },
  {
   "cell_type": "markdown",
   "metadata": {},
   "source": [
    "### Passing an unspecified number of arguments to a method"
   ]
  },
  {
   "cell_type": "markdown",
   "metadata": {},
   "source": [
    "Ruby allows you to pass a variable number of arguments to a method using the `*args` operator. Once the arguments are processed, they must be placed in an array using a loop:"
   ]
  },
  {
   "cell_type": "code",
   "execution_count": 60,
   "metadata": {},
   "outputs": [
    {
     "data": {
      "text/plain": [
       ":multiplybyten"
      ]
     },
     "execution_count": 60,
     "metadata": {},
     "output_type": "execute_result"
    }
   ],
   "source": [
    "def multiplybyten(*args)\n",
    "    args.each { |num_value| puts num_value*10 }\n",
    "    return 1\n",
    "end;"
   ]
  },
  {
   "cell_type": "markdown",
   "metadata": {},
   "source": [
    "Now, calling it gives:"
   ]
  },
  {
   "cell_type": "code",
   "execution_count": 61,
   "metadata": {},
   "outputs": [
    {
     "name": "stdout",
     "output_type": "stream",
     "text": [
      "First call:\n",
      "10\n",
      "20\n",
      "30\n",
      "Second call:\n",
      "40\n",
      "50\n",
      "Test return:\n",
      "40\n",
      "50\n",
      "1\n"
     ]
    }
   ],
   "source": [
    "puts 'First call:'\n",
    "multiplybyten(1, 2, 3)\n",
    "\n",
    "puts 'Second call:'\n",
    "multiplybyten(4, 5)\n",
    "\n",
    "puts 'Test return:'\n",
    "x = multiplybyten(4, 5)\n",
    "puts x"
   ]
  },
  {
   "cell_type": "markdown",
   "metadata": {},
   "source": [
    "The anonymous function used here will be described in a later section."
   ]
  },
  {
   "cell_type": "markdown",
   "metadata": {},
   "source": [
    "### Method aliases"
   ]
  },
  {
   "cell_type": "markdown",
   "metadata": {},
   "source": [
    "Methods can be copied under a different name (known as an *alias*) using the `alias` statement:\n",
    "\n",
    "    alias alias_name original_method\n",
    "    \n",
    "An example is shown here:"
   ]
  },
  {
   "cell_type": "code",
   "execution_count": 63,
   "metadata": {
    "collapsed": true
   },
   "outputs": [],
   "source": [
    "alias addition adder"
   ]
  },
  {
   "cell_type": "markdown",
   "metadata": {},
   "source": [
    "Now, testing `addition`:"
   ]
  },
  {
   "cell_type": "code",
   "execution_count": 64,
   "metadata": {},
   "outputs": [
    {
     "data": {
      "text/plain": [
       "30"
      ]
     },
     "execution_count": 64,
     "metadata": {},
     "output_type": "execute_result"
    }
   ],
   "source": [
    "addition(10, 20)"
   ]
  },
  {
   "cell_type": "markdown",
   "metadata": {},
   "source": [
    "[(back to top)](#toc)"
   ]
  }
 ],
 "metadata": {
  "kernelspec": {
   "display_name": "Ruby 2.4.1",
   "language": "ruby",
   "name": "ruby"
  },
  "language_info": {
   "file_extension": ".rb",
   "mimetype": "application/x-ruby",
   "name": "ruby",
   "version": "2.4.1"
  }
 },
 "nbformat": 4,
 "nbformat_minor": 2
}
